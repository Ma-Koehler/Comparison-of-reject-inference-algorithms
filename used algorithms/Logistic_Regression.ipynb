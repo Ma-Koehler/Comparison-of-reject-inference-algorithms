{
 "cells": [
  {
   "cell_type": "markdown",
   "metadata": {
    "id": "Nf5bQw9lZTzN"
   },
   "source": [
    "# Bachelor's thesis: Logistic Regression model"
   ]
  },
  {
   "cell_type": "code",
   "execution_count": 1,
   "metadata": {},
   "outputs": [],
   "source": [
    "import pandas as pd\n",
    "import numpy as np\n",
    "\n",
    "from sklearn.linear_model import LogisticRegression\n",
    "from sklearn.preprocessing import StandardScaler\n",
    "from sklearn.metrics import roc_auc_score,roc_curve, brier_score_loss"
   ]
  },
  {
   "cell_type": "markdown",
   "metadata": {
    "id": "Nf5bQw9lZTzN"
   },
   "source": [
    "## Loading the data "
   ]
  },
  {
   "cell_type": "code",
   "execution_count": 2,
   "metadata": {
    "id": "54Ud3XtqZTzN"
   },
   "outputs": [],
   "source": [
    "accepts = pd.DataFrame()\n",
    "accepts = pd.read_csv('../data/New_accepts.csv',encoding = \"ISO-8859-1\", low_memory=False)\n",
    "rejects = pd.DataFrame()\n",
    "rejects = pd.read_csv('../data/New_rejects.csv',encoding = \"ISO-8859-1\", low_memory=False)"
   ]
  },
  {
   "cell_type": "code",
   "execution_count": 3,
   "metadata": {},
   "outputs": [],
   "source": [
    "X_acc = accepts.copy()\n",
    "X_rej = rejects.copy()\n",
    "y_rej = X_rej.pop(\"loan_status\")\n",
    "y_acc = X_acc.pop(\"loan_status\")"
   ]
  },
  {
   "cell_type": "markdown",
   "metadata": {},
   "source": [
    "## Preprocessing"
   ]
  },
  {
   "cell_type": "code",
   "execution_count": 4,
   "metadata": {},
   "outputs": [],
   "source": [
    "X_acc = pd.get_dummies(data=X_acc, columns = ['addr_state'], drop_first = True)\n",
    "X_rej = pd.get_dummies(data=X_rej, columns = ['addr_state'], drop_first = True)"
   ]
  },
  {
   "cell_type": "code",
   "execution_count": 5,
   "metadata": {},
   "outputs": [],
   "source": [
    "scaler= StandardScaler()\n",
    "scaler.fit(X_acc)\n",
    "X_acc=scaler.transform(X_acc)\n",
    "X_rej=scaler.transform(X_rej)"
   ]
  },
  {
   "cell_type": "markdown",
   "metadata": {},
   "source": [
    "### Here you can set the penalty parameter for the logistic regression"
   ]
  },
  {
   "cell_type": "code",
   "execution_count": 6,
   "metadata": {},
   "outputs": [],
   "source": [
    "penalty_parameter = 2**2"
   ]
  },
  {
   "cell_type": "markdown",
   "metadata": {},
   "source": [
    "## Model"
   ]
  },
  {
   "cell_type": "code",
   "execution_count": 7,
   "metadata": {},
   "outputs": [],
   "source": [
    "model = LogisticRegression(C=penalty_parameter, solver='liblinear', random_state=42)\n",
    "model.fit(X_acc, y_acc)\n",
    "yhat = model.predict_proba(X_rej)[:,1]"
   ]
  },
  {
   "cell_type": "markdown",
   "metadata": {},
   "source": [
    "## Results"
   ]
  },
  {
   "cell_type": "code",
   "execution_count": 8,
   "metadata": {},
   "outputs": [
    {
     "name": "stdout",
     "output_type": "stream",
     "text": [
      "AUC: 0.5515464387085224\n"
     ]
    }
   ],
   "source": [
    "auc = roc_auc_score(y_rej, yhat)\n",
    "print(\"AUC:\", auc)"
   ]
  },
  {
   "cell_type": "code",
   "execution_count": 9,
   "metadata": {},
   "outputs": [
    {
     "name": "stdout",
     "output_type": "stream",
     "text": [
      "Brier score: 0.3979275718912215\n"
     ]
    }
   ],
   "source": [
    "brier = brier_score_loss(y_rej, yhat,pos_label=1)\n",
    "print(\"Brier score:\", brier)"
   ]
  },
  {
   "cell_type": "code",
   "execution_count": 10,
   "metadata": {},
   "outputs": [
    {
     "name": "stdout",
     "output_type": "stream",
     "text": [
      "KS-Statistic: 0.07523986838267976\n"
     ]
    }
   ],
   "source": [
    "fpr, tpr, thresholds = roc_curve(y_rej, yhat,pos_label=1) \n",
    "ks_statistic = max(tpr - fpr)\n",
    "print(\"KS-Statistic:\",ks_statistic)"
   ]
  }
 ],
 "metadata": {
  "colab": {
   "collapsed_sections": [],
   "name": "4_ex_data_prep.ipynb",
   "provenance": []
  },
  "kernelspec": {
   "display_name": "Python 3 (ipykernel)",
   "language": "python",
   "name": "python3"
  },
  "language_info": {
   "codemirror_mode": {
    "name": "ipython",
    "version": 3
   },
   "file_extension": ".py",
   "mimetype": "text/x-python",
   "name": "python",
   "nbconvert_exporter": "python",
   "pygments_lexer": "ipython3",
   "version": "3.12.0"
  }
 },
 "nbformat": 4,
 "nbformat_minor": 4
}
