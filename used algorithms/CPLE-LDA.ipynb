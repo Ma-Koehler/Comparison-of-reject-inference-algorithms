{
 "cells": [
  {
   "cell_type": "markdown",
   "metadata": {
    "id": "Nf5bQw9lZTzN"
   },
   "source": [
    "# Bachelor's thesis: CPLE-LDA model"
   ]
  },
  {
   "cell_type": "markdown",
   "metadata": {},
   "source": [
    "### The corresponding paper is: Loog, Marco. \"Contrastive pessimistic likelihood estimation for semi-supervised classification.\" IEEE transactions on pattern analysis and machine intelligence 38.3 (2015): 462-475."
   ]
  },
  {
   "cell_type": "markdown",
   "metadata": {},
   "source": [
    "### This file sets up the data for the CPLE-LDA model and calculates the metrics based on the results from the model. The implementation of this model was done in a seperate R file \"CPLE-LDA.r\" with the package \"RSSL\"."
   ]
  },
  {
   "cell_type": "code",
   "execution_count": 1,
   "metadata": {},
   "outputs": [],
   "source": [
    "import pandas as pd\n",
    "import numpy as np"
   ]
  },
  {
   "cell_type": "code",
   "execution_count": 2,
   "metadata": {},
   "outputs": [],
   "source": [
    "from sklearn.preprocessing import StandardScaler\n",
    "from sklearn.metrics import roc_auc_score, roc_curve, brier_score_loss"
   ]
  },
  {
   "cell_type": "markdown",
   "metadata": {},
   "source": [
    "## Loading Data"
   ]
  },
  {
   "cell_type": "code",
   "execution_count": 3,
   "metadata": {},
   "outputs": [],
   "source": [
    "accepts = pd.DataFrame()\n",
    "accepts = pd.read_csv('../data/New_accepts.csv',encoding = \"ISO-8859-1\", low_memory=False)\n",
    "rejects = pd.DataFrame()\n",
    "rejects = pd.read_csv('../data/New_rejects.csv',encoding = \"ISO-8859-1\", low_memory=False)"
   ]
  },
  {
   "cell_type": "code",
   "execution_count": 4,
   "metadata": {},
   "outputs": [],
   "source": [
    "accepts_data = accepts.copy()\n",
    "rejects_data = rejects.copy()"
   ]
  },
  {
   "cell_type": "code",
   "execution_count": 5,
   "metadata": {},
   "outputs": [],
   "source": [
    "y_acc = accepts_data[\"loan_status\"]\n",
    "y_rej = rejects_data[\"loan_status\"]"
   ]
  },
  {
   "cell_type": "markdown",
   "metadata": {},
   "source": [
    "## Preprocessing"
   ]
  },
  {
   "cell_type": "code",
   "execution_count": 6,
   "metadata": {},
   "outputs": [],
   "source": [
    "scaler=StandardScaler()\n",
    "scaler.fit(accepts_data[['loan_amnt', 'emp_length', 'dti', 'fico']])\n",
    "accepts_data[['loan_amnt', 'emp_length', 'dti', 'fico']] = scaler.transform(accepts_data[['loan_amnt', 'emp_length', 'dti', 'fico']])\n",
    "rejects_data[['loan_amnt', 'emp_length', 'dti', 'fico']] = scaler.transform(rejects_data[['loan_amnt', 'emp_length', 'dti', 'fico']])"
   ]
  },
  {
   "cell_type": "code",
   "execution_count": 7,
   "metadata": {},
   "outputs": [],
   "source": [
    "accepts_data = pd.get_dummies(data=accepts_data, columns = ['addr_state'], drop_first = True)\n",
    "rejects_data = pd.get_dummies(data=rejects_data, columns = ['addr_state'], drop_first = True)"
   ]
  },
  {
   "cell_type": "code",
   "execution_count": 8,
   "metadata": {},
   "outputs": [],
   "source": [
    "accepts_data = accepts_data[['loan_amnt', 'emp_length', 'dti', 'fico','addr_state_1',\"addr_state_2\",\"addr_state_3\",'loan_status']]\n",
    "rejects_data = rejects_data[['loan_amnt', 'emp_length', 'dti', 'fico','addr_state_1',\"addr_state_2\",\"addr_state_3\",'loan_status']]"
   ]
  },
  {
   "cell_type": "code",
   "execution_count": 9,
   "metadata": {},
   "outputs": [],
   "source": [
    "accepts_data.to_csv('../data/CPLE_accepts.csv', encoding='utf-8', index=False)\n",
    "rejects_data.to_csv('../data/CPLE_rejects.csv', encoding='utf-8', index=False)"
   ]
  },
  {
   "cell_type": "markdown",
   "metadata": {},
   "source": [
    "## Results"
   ]
  },
  {
   "cell_type": "markdown",
   "metadata": {},
   "source": [
    "### First we need to load the results. These are already available but you can run the implementation \"CPLE-LDA.R\" again to generate the results."
   ]
  },
  {
   "cell_type": "code",
   "execution_count": 10,
   "metadata": {},
   "outputs": [],
   "source": [
    "CPLE_result = pd.read_csv('../data/CPLE_result.csv',encoding = \"ISO-8859-1\", low_memory=False)\n",
    "CPLE_result.drop(columns = CPLE_result.columns[0],axis = 1, inplace = True)"
   ]
  },
  {
   "cell_type": "code",
   "execution_count": 11,
   "metadata": {},
   "outputs": [],
   "source": [
    "yhat = CPLE_result[\"V2\"]"
   ]
  },
  {
   "cell_type": "code",
   "execution_count": 12,
   "metadata": {},
   "outputs": [
    {
     "name": "stdout",
     "output_type": "stream",
     "text": [
      "AUC: 0.5543551061704693\n"
     ]
    }
   ],
   "source": [
    "auc = roc_auc_score(y_rej,yhat)\n",
    "print(\"AUC:\", auc)"
   ]
  },
  {
   "cell_type": "code",
   "execution_count": 13,
   "metadata": {},
   "outputs": [
    {
     "name": "stdout",
     "output_type": "stream",
     "text": [
      "Brier score: 0.603776847522558\n"
     ]
    }
   ],
   "source": [
    "brier = brier_score_loss(y_rej, yhat,pos_label=1)\n",
    "print(\"Brier score:\", brier)"
   ]
  },
  {
   "cell_type": "code",
   "execution_count": 14,
   "metadata": {
    "scrolled": true
   },
   "outputs": [
    {
     "name": "stdout",
     "output_type": "stream",
     "text": [
      "KS-Statistic: 0.08001999573972729\n"
     ]
    }
   ],
   "source": [
    "fpr, tpr, thresholds = roc_curve(y_rej, yhat,pos_label=1) \n",
    "ks_statistic = max(tpr - fpr)\n",
    "print(\"KS-Statistic:\",ks_statistic)"
   ]
  }
 ],
 "metadata": {
  "colab": {
   "collapsed_sections": [],
   "name": "4_ex_data_prep.ipynb",
   "provenance": []
  },
  "kernelspec": {
   "display_name": "Python 3 (ipykernel)",
   "language": "python",
   "name": "python3"
  },
  "language_info": {
   "codemirror_mode": {
    "name": "ipython",
    "version": 3
   },
   "file_extension": ".py",
   "mimetype": "text/x-python",
   "name": "python",
   "nbconvert_exporter": "python",
   "pygments_lexer": "ipython3",
   "version": "3.12.0"
  }
 },
 "nbformat": 4,
 "nbformat_minor": 4
}
