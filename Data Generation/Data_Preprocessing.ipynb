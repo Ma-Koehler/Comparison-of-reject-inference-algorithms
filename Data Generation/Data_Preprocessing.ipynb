{
 "cells": [
  {
   "cell_type": "markdown",
   "metadata": {
    "id": "Nf5bQw9lZTzN"
   },
   "source": [
    "# Bachelor's thesis"
   ]
  },
  {
   "cell_type": "code",
   "execution_count": 1,
   "metadata": {},
   "outputs": [],
   "source": [
    "import pandas as pd\n",
    "import numpy as np\n",
    "from scipy import stats\n",
    "import parquet\n",
    "from sklearn.preprocessing import StandardScaler\n",
    "# statistical tests\n",
    "from scipy.stats import mannwhitneyu\n",
    "from scipy.stats import ks_2samp"
   ]
  },
  {
   "cell_type": "markdown",
   "metadata": {},
   "source": [
    "## Loading the data "
   ]
  },
  {
   "cell_type": "code",
   "execution_count": 2,
   "metadata": {},
   "outputs": [],
   "source": [
    "accepts = pd.DataFrame()\n",
    "accepts = df = pd.read_parquet(\"../data/accepts_original.parquet\", engine=\"fastparquet\")"
   ]
  },
  {
   "cell_type": "code",
   "execution_count": 3,
   "metadata": {},
   "outputs": [
    {
     "name": "stdout",
     "output_type": "stream",
     "text": [
      "<class 'pandas.core.frame.DataFrame'>\n",
      "RangeIndex: 2260701 entries, 0 to 2260700\n",
      "Columns: 151 entries, id to settlement_term\n",
      "dtypes: float64(113), object(38)\n",
      "memory usage: 2.5+ GB\n"
     ]
    }
   ],
   "source": [
    "accepts.info()"
   ]
  },
  {
   "cell_type": "code",
   "execution_count": 4,
   "metadata": {},
   "outputs": [],
   "source": [
    "rejects = pd.DataFrame()\n",
    "rejects = pd.read_parquet('../data/rejects_original.parquet', engine=\"fastparquet\")"
   ]
  },
  {
   "cell_type": "markdown",
   "metadata": {},
   "source": [
    "## Preprocessing"
   ]
  },
  {
   "cell_type": "markdown",
   "metadata": {},
   "source": [
    "### First we preprocess the rejects. We delete FICO values, who can not occur and delete heavy outliers in the variable dti."
   ]
  },
  {
   "cell_type": "code",
   "execution_count": 5,
   "metadata": {},
   "outputs": [],
   "source": [
    "rejects = rejects.drop([\"Application Date\",\"Loan Title\",\"Zip Code\",\"Policy Code\"], axis = 1)"
   ]
  },
  {
   "cell_type": "code",
   "execution_count": 6,
   "metadata": {},
   "outputs": [
    {
     "name": "stdout",
     "output_type": "stream",
     "text": [
      "<class 'pandas.core.frame.DataFrame'>\n",
      "RangeIndex: 27648741 entries, 0 to 27648740\n",
      "Data columns (total 5 columns):\n",
      " #   Column                Dtype  \n",
      "---  ------                -----  \n",
      " 0   Amount Requested      float64\n",
      " 1   Risk_Score            float64\n",
      " 2   Debt-To-Income Ratio  object \n",
      " 3   State                 object \n",
      " 4   Employment Length     object \n",
      "dtypes: float64(2), object(3)\n",
      "memory usage: 1.0+ GB\n"
     ]
    }
   ],
   "source": [
    "rejects.info()"
   ]
  },
  {
   "cell_type": "code",
   "execution_count": 7,
   "metadata": {},
   "outputs": [],
   "source": [
    "rejects.rename(columns={'Amount Requested': 'loan_amnt', 'Risk_Score': 'fico', 'Debt-To-Income Ratio': 'dti', 'State': 'addr_state', 'Employment Length': 'emp_length'}, inplace=True)"
   ]
  },
  {
   "cell_type": "code",
   "execution_count": 8,
   "metadata": {},
   "outputs": [],
   "source": [
    "rejects.dropna(subset=['fico', 'emp_length'], inplace=True)"
   ]
  },
  {
   "cell_type": "code",
   "execution_count": 9,
   "metadata": {},
   "outputs": [],
   "source": [
    "rejects['dti'] = rejects['dti'].str.replace('%', '').astype(float)\n",
    "rejects = rejects[\n",
    "    (rejects['dti'] >= 0) & \n",
    "    (rejects['fico'] <= 850) & \n",
    "    (rejects['fico'] >= 300) & \n",
    "    (np.abs(stats.zscore(rejects[\"dti\"])) < 2)\n",
    "]"
   ]
  },
  {
   "cell_type": "code",
   "execution_count": 10,
   "metadata": {},
   "outputs": [],
   "source": [
    "def categorize_emp_length(x):\n",
    "    if(x=='< 1 year'):\n",
    "        return 0\n",
    "    if(x=='1 year'):\n",
    "        return 1\n",
    "    if(x=='2 years'):\n",
    "        return 2\n",
    "    if(x=='3 years'):\n",
    "        return 3\n",
    "    if(x=='4 years'):\n",
    "        return 4\n",
    "    if(x=='5 years'):\n",
    "        return 5\n",
    "    if(x=='6 years'):\n",
    "        return 6\n",
    "    if(x=='7 years'):\n",
    "        return 7\n",
    "    if(x=='8 years'):\n",
    "        return 8\n",
    "    if(x=='9 years'):\n",
    "        return 9\n",
    "    return 10"
   ]
  },
  {
   "cell_type": "code",
   "execution_count": 11,
   "metadata": {},
   "outputs": [
    {
     "data": {
      "text/html": [
       "<div>\n",
       "<style scoped>\n",
       "    .dataframe tbody tr th:only-of-type {\n",
       "        vertical-align: middle;\n",
       "    }\n",
       "\n",
       "    .dataframe tbody tr th {\n",
       "        vertical-align: top;\n",
       "    }\n",
       "\n",
       "    .dataframe thead th {\n",
       "        text-align: right;\n",
       "    }\n",
       "</style>\n",
       "<table border=\"1\" class=\"dataframe\">\n",
       "  <thead>\n",
       "    <tr style=\"text-align: right;\">\n",
       "      <th></th>\n",
       "      <th>loan_amnt</th>\n",
       "      <th>fico</th>\n",
       "      <th>dti</th>\n",
       "      <th>emp_length</th>\n",
       "    </tr>\n",
       "  </thead>\n",
       "  <tbody>\n",
       "    <tr>\n",
       "      <th>count</th>\n",
       "      <td>8863111.0</td>\n",
       "      <td>8863111.0</td>\n",
       "      <td>8863111.0</td>\n",
       "      <td>8863111.0</td>\n",
       "    </tr>\n",
       "    <tr>\n",
       "      <th>mean</th>\n",
       "      <td>12664.8</td>\n",
       "      <td>632.7</td>\n",
       "      <td>71.2</td>\n",
       "      <td>0.5</td>\n",
       "    </tr>\n",
       "    <tr>\n",
       "      <th>std</th>\n",
       "      <td>10897.1</td>\n",
       "      <td>64.3</td>\n",
       "      <td>748.7</td>\n",
       "      <td>1.9</td>\n",
       "    </tr>\n",
       "    <tr>\n",
       "      <th>min</th>\n",
       "      <td>0.0</td>\n",
       "      <td>300.0</td>\n",
       "      <td>0.0</td>\n",
       "      <td>0.0</td>\n",
       "    </tr>\n",
       "    <tr>\n",
       "      <th>25%</th>\n",
       "      <td>4000.0</td>\n",
       "      <td>592.0</td>\n",
       "      <td>9.4</td>\n",
       "      <td>0.0</td>\n",
       "    </tr>\n",
       "    <tr>\n",
       "      <th>50%</th>\n",
       "      <td>10000.0</td>\n",
       "      <td>637.0</td>\n",
       "      <td>20.8</td>\n",
       "      <td>0.0</td>\n",
       "    </tr>\n",
       "    <tr>\n",
       "      <th>75%</th>\n",
       "      <td>20000.0</td>\n",
       "      <td>674.0</td>\n",
       "      <td>36.4</td>\n",
       "      <td>0.0</td>\n",
       "    </tr>\n",
       "    <tr>\n",
       "      <th>max</th>\n",
       "      <td>1400000.0</td>\n",
       "      <td>850.0</td>\n",
       "      <td>35700.0</td>\n",
       "      <td>10.0</td>\n",
       "    </tr>\n",
       "  </tbody>\n",
       "</table>\n",
       "</div>"
      ],
      "text/plain": [
       "       loan_amnt       fico        dti emp_length\n",
       "count  8863111.0  8863111.0  8863111.0  8863111.0\n",
       "mean     12664.8      632.7       71.2        0.5\n",
       "std      10897.1       64.3      748.7        1.9\n",
       "min          0.0      300.0        0.0        0.0\n",
       "25%       4000.0      592.0        9.4        0.0\n",
       "50%      10000.0      637.0       20.8        0.0\n",
       "75%      20000.0      674.0       36.4        0.0\n",
       "max    1400000.0      850.0    35700.0       10.0"
      ]
     },
     "execution_count": 11,
     "metadata": {},
     "output_type": "execute_result"
    }
   ],
   "source": [
    "rejects['emp_length'] = rejects['emp_length'].apply(categorize_emp_length)\n",
    "rejects.describe().apply(lambda x: x.apply('{0:.1f}'.format))"
   ]
  },
  {
   "cell_type": "markdown",
   "metadata": {
    "id": "54Ud3XtqZTzN"
   },
   "source": [
    "## Accepts"
   ]
  },
  {
   "cell_type": "code",
   "execution_count": 12,
   "metadata": {},
   "outputs": [
    {
     "name": "stdout",
     "output_type": "stream",
     "text": [
      "<class 'pandas.core.frame.DataFrame'>\n",
      "RangeIndex: 2260701 entries, 0 to 2260700\n",
      "Columns: 151 entries, id to settlement_term\n",
      "dtypes: float64(113), object(38)\n",
      "memory usage: 2.5+ GB\n"
     ]
    }
   ],
   "source": [
    "accepts.info()"
   ]
  },
  {
   "cell_type": "markdown",
   "metadata": {},
   "source": [
    "### First I drop all features I dont need and drop all missing values in loan_status since this is the most valuable variable. Then I drop the missing values in my other variables. For dti I drop heavy outliers."
   ]
  },
  {
   "cell_type": "code",
   "execution_count": 13,
   "metadata": {},
   "outputs": [
    {
     "name": "stdout",
     "output_type": "stream",
     "text": [
      "<class 'pandas.core.frame.DataFrame'>\n",
      "Index: 8863111 entries, 0 to 27648740\n",
      "Data columns (total 5 columns):\n",
      " #   Column      Dtype  \n",
      "---  ------      -----  \n",
      " 0   loan_amnt   float64\n",
      " 1   fico        float64\n",
      " 2   dti         float64\n",
      " 3   addr_state  object \n",
      " 4   emp_length  int64  \n",
      "dtypes: float64(3), int64(1), object(1)\n",
      "memory usage: 405.7+ MB\n"
     ]
    }
   ],
   "source": [
    "rejects.info()"
   ]
  },
  {
   "cell_type": "code",
   "execution_count": 14,
   "metadata": {},
   "outputs": [],
   "source": [
    "accepts = accepts[[\"loan_amnt\",\"fico_range_low\",\"dti\",\"addr_state\",\"emp_length\",\"loan_status\", \"int_rate\",\"acc_open_past_24mths\",\"bc_open_to_buy\"]]"
   ]
  },
  {
   "cell_type": "code",
   "execution_count": 15,
   "metadata": {},
   "outputs": [
    {
     "name": "stderr",
     "output_type": "stream",
     "text": [
      "/var/folders/gq/_cdvcqp945l0bvvrdmswyvs80000gn/T/ipykernel_13117/885549311.py:1: SettingWithCopyWarning: \n",
      "A value is trying to be set on a copy of a slice from a DataFrame\n",
      "\n",
      "See the caveats in the documentation: https://pandas.pydata.org/pandas-docs/stable/user_guide/indexing.html#returning-a-view-versus-a-copy\n",
      "  accepts.rename(columns={'fico_range_low': 'fico'}, inplace=True)\n"
     ]
    }
   ],
   "source": [
    "accepts.rename(columns={'fico_range_low': 'fico'}, inplace=True)"
   ]
  },
  {
   "cell_type": "code",
   "execution_count": 16,
   "metadata": {},
   "outputs": [
    {
     "data": {
      "text/html": [
       "<div>\n",
       "<style scoped>\n",
       "    .dataframe tbody tr th:only-of-type {\n",
       "        vertical-align: middle;\n",
       "    }\n",
       "\n",
       "    .dataframe tbody tr th {\n",
       "        vertical-align: top;\n",
       "    }\n",
       "\n",
       "    .dataframe thead th {\n",
       "        text-align: right;\n",
       "    }\n",
       "</style>\n",
       "<table border=\"1\" class=\"dataframe\">\n",
       "  <thead>\n",
       "    <tr style=\"text-align: right;\">\n",
       "      <th></th>\n",
       "      <th>loan_amnt</th>\n",
       "      <th>fico</th>\n",
       "      <th>dti</th>\n",
       "    </tr>\n",
       "  </thead>\n",
       "  <tbody>\n",
       "    <tr>\n",
       "      <th>count</th>\n",
       "      <td>2260668.0</td>\n",
       "      <td>2260668.0</td>\n",
       "      <td>2258957.0</td>\n",
       "    </tr>\n",
       "    <tr>\n",
       "      <th>mean</th>\n",
       "      <td>15046.9</td>\n",
       "      <td>698.6</td>\n",
       "      <td>18.8</td>\n",
       "    </tr>\n",
       "    <tr>\n",
       "      <th>std</th>\n",
       "      <td>9190.2</td>\n",
       "      <td>33.0</td>\n",
       "      <td>14.2</td>\n",
       "    </tr>\n",
       "    <tr>\n",
       "      <th>min</th>\n",
       "      <td>500.0</td>\n",
       "      <td>610.0</td>\n",
       "      <td>-1.0</td>\n",
       "    </tr>\n",
       "    <tr>\n",
       "      <th>25%</th>\n",
       "      <td>8000.0</td>\n",
       "      <td>675.0</td>\n",
       "      <td>11.9</td>\n",
       "    </tr>\n",
       "    <tr>\n",
       "      <th>50%</th>\n",
       "      <td>12900.0</td>\n",
       "      <td>690.0</td>\n",
       "      <td>17.8</td>\n",
       "    </tr>\n",
       "    <tr>\n",
       "      <th>75%</th>\n",
       "      <td>20000.0</td>\n",
       "      <td>715.0</td>\n",
       "      <td>24.5</td>\n",
       "    </tr>\n",
       "    <tr>\n",
       "      <th>max</th>\n",
       "      <td>40000.0</td>\n",
       "      <td>845.0</td>\n",
       "      <td>999.0</td>\n",
       "    </tr>\n",
       "  </tbody>\n",
       "</table>\n",
       "</div>"
      ],
      "text/plain": [
       "       loan_amnt       fico        dti\n",
       "count  2260668.0  2260668.0  2258957.0\n",
       "mean     15046.9      698.6       18.8\n",
       "std       9190.2       33.0       14.2\n",
       "min        500.0      610.0       -1.0\n",
       "25%       8000.0      675.0       11.9\n",
       "50%      12900.0      690.0       17.8\n",
       "75%      20000.0      715.0       24.5\n",
       "max      40000.0      845.0      999.0"
      ]
     },
     "execution_count": 16,
     "metadata": {},
     "output_type": "execute_result"
    }
   ],
   "source": [
    "accepts[[\"loan_amnt\",\"fico\",\"dti\",\"addr_state\",\"emp_length\"]].describe().apply(lambda x: x.apply('{0:.1f}'.format))"
   ]
  },
  {
   "cell_type": "markdown",
   "metadata": {},
   "source": [
    "### Now I categorize my variables."
   ]
  },
  {
   "cell_type": "code",
   "execution_count": 17,
   "metadata": {},
   "outputs": [],
   "source": [
    "accepts = accepts[~accepts.loan_status.isin([\n",
    "    \"Does not meet the credit policy. Status:Fully Paid\",\n",
    "    \"Does not meet the credit policy. Status:Charged Off\"\n",
    "])]\n",
    "\n",
    "def categorize_loan(x):\n",
    "    if(x=='Fully Paid' or x=='Late (31-120 days)' or x=='In Grace Period' or x==\"Late (16-30 days)\"):\n",
    "        return 0\n",
    "    if (x==\"Current\"):\n",
    "        return 2\n",
    "    return 1\n",
    "accepts['loan_status'] = accepts['loan_status'].apply(categorize_loan)"
   ]
  },
  {
   "cell_type": "code",
   "execution_count": 18,
   "metadata": {},
   "outputs": [
    {
     "name": "stdout",
     "output_type": "stream",
     "text": [
      "<class 'pandas.core.frame.DataFrame'>\n",
      "Index: 2257952 entries, 0 to 2260700\n",
      "Data columns (total 9 columns):\n",
      " #   Column                Dtype  \n",
      "---  ------                -----  \n",
      " 0   loan_amnt             float64\n",
      " 1   fico                  float64\n",
      " 2   dti                   float64\n",
      " 3   addr_state            object \n",
      " 4   emp_length            object \n",
      " 5   loan_status           int64  \n",
      " 6   int_rate              float64\n",
      " 7   acc_open_past_24mths  float64\n",
      " 8   bc_open_to_buy        float64\n",
      "dtypes: float64(6), int64(1), object(2)\n",
      "memory usage: 172.3+ MB\n"
     ]
    }
   ],
   "source": [
    "accepts.info()"
   ]
  },
  {
   "cell_type": "code",
   "execution_count": 19,
   "metadata": {},
   "outputs": [],
   "source": [
    "accepts.dropna(subset=['loan_status', 'dti', \"emp_length\"], inplace=True)"
   ]
  },
  {
   "cell_type": "code",
   "execution_count": 20,
   "metadata": {},
   "outputs": [],
   "source": [
    "accepts = accepts[\n",
    "    (accepts['dti'] >= 0) & \n",
    "    (np.abs(stats.zscore(accepts[\"dti\"])) < 3)\n",
    "]"
   ]
  },
  {
   "cell_type": "code",
   "execution_count": 21,
   "metadata": {},
   "outputs": [],
   "source": [
    "accepts['emp_length'] = accepts['emp_length'].apply(categorize_emp_length)"
   ]
  },
  {
   "cell_type": "markdown",
   "metadata": {},
   "source": [
    "### Here I also drop the missing values for my unobserved variables and drop the current loans because we do not know if they will default or not."
   ]
  },
  {
   "cell_type": "code",
   "execution_count": 22,
   "metadata": {},
   "outputs": [
    {
     "data": {
      "text/plain": [
       "loan_amnt               0.000000\n",
       "fico                    0.000000\n",
       "dti                     0.000000\n",
       "addr_state              0.000000\n",
       "emp_length              0.000000\n",
       "loan_status             0.000000\n",
       "int_rate                0.000000\n",
       "acc_open_past_24mths    2.184582\n",
       "bc_open_to_buy          3.236954\n",
       "dtype: float64"
      ]
     },
     "execution_count": 22,
     "metadata": {},
     "output_type": "execute_result"
    }
   ],
   "source": [
    "accepts.isnull().sum()/accepts.shape[0]*100"
   ]
  },
  {
   "cell_type": "code",
   "execution_count": 23,
   "metadata": {},
   "outputs": [],
   "source": [
    "accepts = accepts[accepts.loan_status != 2]"
   ]
  },
  {
   "cell_type": "code",
   "execution_count": 24,
   "metadata": {},
   "outputs": [
    {
     "data": {
      "text/html": [
       "<div>\n",
       "<style scoped>\n",
       "    .dataframe tbody tr th:only-of-type {\n",
       "        vertical-align: middle;\n",
       "    }\n",
       "\n",
       "    .dataframe tbody tr th {\n",
       "        vertical-align: top;\n",
       "    }\n",
       "\n",
       "    .dataframe thead th {\n",
       "        text-align: right;\n",
       "    }\n",
       "</style>\n",
       "<table border=\"1\" class=\"dataframe\">\n",
       "  <thead>\n",
       "    <tr style=\"text-align: right;\">\n",
       "      <th></th>\n",
       "      <th>loan_amnt</th>\n",
       "      <th>fico</th>\n",
       "      <th>dti</th>\n",
       "      <th>emp_length</th>\n",
       "    </tr>\n",
       "  </thead>\n",
       "  <tbody>\n",
       "    <tr>\n",
       "      <th>count</th>\n",
       "      <td>1296365.0</td>\n",
       "      <td>1296365.0</td>\n",
       "      <td>1296365.0</td>\n",
       "      <td>1296365.0</td>\n",
       "    </tr>\n",
       "    <tr>\n",
       "      <th>mean</th>\n",
       "      <td>14662.8</td>\n",
       "      <td>696.0</td>\n",
       "      <td>18.1</td>\n",
       "      <td>6.0</td>\n",
       "    </tr>\n",
       "    <tr>\n",
       "      <th>std</th>\n",
       "      <td>8777.7</td>\n",
       "      <td>31.6</td>\n",
       "      <td>8.5</td>\n",
       "      <td>3.7</td>\n",
       "    </tr>\n",
       "    <tr>\n",
       "      <th>min</th>\n",
       "      <td>500.0</td>\n",
       "      <td>625.0</td>\n",
       "      <td>0.0</td>\n",
       "      <td>0.0</td>\n",
       "    </tr>\n",
       "    <tr>\n",
       "      <th>25%</th>\n",
       "      <td>8000.0</td>\n",
       "      <td>670.0</td>\n",
       "      <td>11.8</td>\n",
       "      <td>2.0</td>\n",
       "    </tr>\n",
       "    <tr>\n",
       "      <th>50%</th>\n",
       "      <td>12325.0</td>\n",
       "      <td>690.0</td>\n",
       "      <td>17.5</td>\n",
       "      <td>6.0</td>\n",
       "    </tr>\n",
       "    <tr>\n",
       "      <th>75%</th>\n",
       "      <td>20000.0</td>\n",
       "      <td>710.0</td>\n",
       "      <td>23.9</td>\n",
       "      <td>10.0</td>\n",
       "    </tr>\n",
       "    <tr>\n",
       "      <th>max</th>\n",
       "      <td>40000.0</td>\n",
       "      <td>845.0</td>\n",
       "      <td>54.0</td>\n",
       "      <td>10.0</td>\n",
       "    </tr>\n",
       "  </tbody>\n",
       "</table>\n",
       "</div>"
      ],
      "text/plain": [
       "       loan_amnt       fico        dti emp_length\n",
       "count  1296365.0  1296365.0  1296365.0  1296365.0\n",
       "mean     14662.8      696.0       18.1        6.0\n",
       "std       8777.7       31.6        8.5        3.7\n",
       "min        500.0      625.0        0.0        0.0\n",
       "25%       8000.0      670.0       11.8        2.0\n",
       "50%      12325.0      690.0       17.5        6.0\n",
       "75%      20000.0      710.0       23.9       10.0\n",
       "max      40000.0      845.0       54.0       10.0"
      ]
     },
     "execution_count": 24,
     "metadata": {},
     "output_type": "execute_result"
    }
   ],
   "source": [
    "accepts[[\"loan_amnt\",\"fico\",\"dti\",\"addr_state\",\"emp_length\"]].describe().apply(lambda x: x.apply('{0:.1f}'.format))"
   ]
  },
  {
   "cell_type": "code",
   "execution_count": 25,
   "metadata": {},
   "outputs": [],
   "source": [
    "accepts.dropna(subset=['bc_open_to_buy','acc_open_past_24mths', 'int_rate'], inplace=True)"
   ]
  },
  {
   "cell_type": "markdown",
   "metadata": {},
   "source": [
    "### Now I bin the variable address state according to its prior default rate into 4 subgroups. Meaning a state with a low default rate goes into bin 0 and a state with a high default rate goes into bin 3."
   ]
  },
  {
   "cell_type": "code",
   "execution_count": 26,
   "metadata": {},
   "outputs": [],
   "source": [
    "default_rate = accepts.groupby('addr_state')['loan_status'].mean()\n",
    "bins = pd.qcut(default_rate, q=4, labels=False)\n",
    "binned_states = default_rate.to_frame().assign(Bin=bins).reset_index()\n",
    "accepts = accepts.merge(binned_states[['addr_state', 'Bin']], on='addr_state', how='left')"
   ]
  },
  {
   "cell_type": "code",
   "execution_count": 27,
   "metadata": {},
   "outputs": [],
   "source": [
    "accepts = accepts.drop(\"addr_state\", axis=1)\n",
    "accepts.rename(columns={'Bin': 'addr_state'}, inplace=True)"
   ]
  },
  {
   "cell_type": "code",
   "execution_count": 28,
   "metadata": {},
   "outputs": [],
   "source": [
    "accepts = accepts[[\"loan_amnt\",\"fico\",\"dti\",\"addr_state\",\"emp_length\",\"loan_status\", \"int_rate\",\"acc_open_past_24mths\",\"bc_open_to_buy\"]]"
   ]
  },
  {
   "cell_type": "markdown",
   "metadata": {},
   "source": [
    "### These are my final accepts, which I use for the data generation process."
   ]
  },
  {
   "cell_type": "code",
   "execution_count": 29,
   "metadata": {},
   "outputs": [],
   "source": [
    "accepts.to_csv('../data/accepts.csv', encoding='utf-8', index=False)"
   ]
  },
  {
   "cell_type": "markdown",
   "metadata": {},
   "source": [
    "## Statistical Tests"
   ]
  },
  {
   "cell_type": "markdown",
   "metadata": {},
   "source": [
    "### Now I do some statistical tests on the original accepts and rejects. Here you can see the Mann-Whitney-U-Test for the variable loan amount as an example. I used the statistic to calculate my effect sizes."
   ]
  },
  {
   "cell_type": "code",
   "execution_count": 30,
   "metadata": {},
   "outputs": [
    {
     "name": "stdout",
     "output_type": "stream",
     "text": [
      "<class 'pandas.core.frame.DataFrame'>\n",
      "RangeIndex: 1237419 entries, 0 to 1237418\n",
      "Data columns (total 9 columns):\n",
      " #   Column                Non-Null Count    Dtype  \n",
      "---  ------                --------------    -----  \n",
      " 0   loan_amnt             1237419 non-null  float64\n",
      " 1   fico                  1237419 non-null  float64\n",
      " 2   dti                   1237419 non-null  float64\n",
      " 3   addr_state            1237419 non-null  int64  \n",
      " 4   emp_length            1237419 non-null  int64  \n",
      " 5   loan_status           1237419 non-null  int64  \n",
      " 6   int_rate              1237419 non-null  float64\n",
      " 7   acc_open_past_24mths  1237419 non-null  float64\n",
      " 8   bc_open_to_buy        1237419 non-null  float64\n",
      "dtypes: float64(6), int64(3)\n",
      "memory usage: 85.0 MB\n"
     ]
    }
   ],
   "source": [
    "accepts.info()"
   ]
  },
  {
   "cell_type": "code",
   "execution_count": 31,
   "metadata": {},
   "outputs": [
    {
     "name": "stdout",
     "output_type": "stream",
     "text": [
      "<class 'pandas.core.frame.DataFrame'>\n",
      "Index: 8863111 entries, 0 to 27648740\n",
      "Data columns (total 5 columns):\n",
      " #   Column      Dtype  \n",
      "---  ------      -----  \n",
      " 0   loan_amnt   float64\n",
      " 1   fico        float64\n",
      " 2   dti         float64\n",
      " 3   addr_state  object \n",
      " 4   emp_length  int64  \n",
      "dtypes: float64(3), int64(1), object(1)\n",
      "memory usage: 405.7+ MB\n"
     ]
    }
   ],
   "source": [
    "rejects.info()"
   ]
  },
  {
   "cell_type": "code",
   "execution_count": 32,
   "metadata": {},
   "outputs": [
    {
     "data": {
      "text/plain": [
       "MannwhitneyuResult(statistic=6625489065186.0, pvalue=0.0)"
      ]
     },
     "execution_count": 32,
     "metadata": {},
     "output_type": "execute_result"
    }
   ],
   "source": [
    "mannwhitneyu(accepts.iloc[:,0], rejects.iloc[:,0])"
   ]
  }
 ],
 "metadata": {
  "colab": {
   "collapsed_sections": [],
   "name": "4_ex_data_prep.ipynb",
   "provenance": []
  },
  "kernelspec": {
   "display_name": "Python 3 (ipykernel)",
   "language": "python",
   "name": "python3"
  },
  "language_info": {
   "codemirror_mode": {
    "name": "ipython",
    "version": 3
   },
   "file_extension": ".py",
   "mimetype": "text/x-python",
   "name": "python",
   "nbconvert_exporter": "python",
   "pygments_lexer": "ipython3",
   "version": "3.12.0"
  }
 },
 "nbformat": 4,
 "nbformat_minor": 4
}
